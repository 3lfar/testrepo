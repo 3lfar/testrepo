{
 "cells": [
  {
   "cell_type": "markdown",
   "id": "af6e0ec7-b9e2-4058-9ca5-4fd49d77f93c",
   "metadata": {},
   "source": [
    "# \"My Jupyter Notebook on IBM Watson Studio\""
   ]
  },
  {
   "cell_type": "markdown",
   "id": "b3636919-10fa-4c45-9f61-065c35cab0df",
   "metadata": {},
   "source": [
    "##### MUJAHED ELFAR\n",
    "current job is an Upkeep at a glass plant"
   ]
  },
  {
   "cell_type": "markdown",
   "id": "68b44b6e-b23e-4dc9-8fab-b428711ef4fd",
   "metadata": {},
   "source": [
    "*I am interested in data science because I think it is fun and engaging to be able to work with all the differant tools to see what tour able to do with data* "
   ]
  },
  {
   "cell_type": "markdown",
   "id": "e439cd81-e632-49cb-9d61-82b6aa56f9a3",
   "metadata": {},
   "source": [
    "My code will be simple addition"
   ]
  },
  {
   "cell_type": "code",
   "execution_count": 2,
   "id": "b9c875e5-7ef1-41d1-b2a6-7541e1cda5a9",
   "metadata": {},
   "outputs": [
    {
     "data": {
      "text/plain": [
       "2"
      ]
     },
     "execution_count": 2,
     "metadata": {},
     "output_type": "execute_result"
    }
   ],
   "source": [
    "1+1"
   ]
  },
  {
   "cell_type": "markdown",
   "id": "f9b9e970-0783-48b8-a417-a5eb38424926",
   "metadata": {},
   "source": [
    "~~Not today~~\n",
    "* Goku\n",
    "* is the \n",
    "* best\n",
    "\n",
    "https://www.youtube.com/watch?v=RSU4DttJ-Ks"
   ]
  },
  {
   "cell_type": "code",
   "execution_count": null,
   "id": "8fb20a27-6af4-41bd-a3b3-607f01c2da97",
   "metadata": {},
   "outputs": [],
   "source": []
  }
 ],
 "metadata": {
  "kernelspec": {
   "display_name": "Python 3 (ipykernel)",
   "language": "python",
   "name": "python3"
  },
  "language_info": {
   "codemirror_mode": {
    "name": "ipython",
    "version": 3
   },
   "file_extension": ".py",
   "mimetype": "text/x-python",
   "name": "python",
   "nbconvert_exporter": "python",
   "pygments_lexer": "ipython3",
   "version": "3.8.13"
  },
  "toc-autonumbering": false,
  "toc-showmarkdowntxt": false,
  "toc-showtags": false
 },
 "nbformat": 4,
 "nbformat_minor": 5
}
